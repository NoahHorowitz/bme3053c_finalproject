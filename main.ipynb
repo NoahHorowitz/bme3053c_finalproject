{
 "cells": [
  {
   "cell_type": "code",
   "execution_count": null,
   "metadata": {},
   "outputs": [],
   "source": [
    "# Importing base libraries\n",
    "try:\n",
    "    import numpy as np\n",
    "    import pandas as pd\n",
    "    import matplotlib.pyplot as plt\n",
    "except ImportError:\n",
    "    %pip install numpy pandas matplotlib\n",
    "    import numpy as np\n",
    "    import pandas as pd\n",
    "    import matplotlib.pyplot as plt\n",
    "\n",
    "# Importing AI and handling libraries\n",
    "try:\n",
    "    import nbformat\n",
    "    import plotly\n",
    "    import seaborn as sns\n",
    "except ImportError:\n",
    "    print(\"Installing required packages...\")\n",
    "    %pip install nbformat>=4.2.0\n",
    "    %pip install plotly\n",
    "    %pip install seaborn\n"
   ]
  }
 ],
 "metadata": {
  "language_info": {
   "name": "python"
  }
 },
 "nbformat": 4,
 "nbformat_minor": 2
}
